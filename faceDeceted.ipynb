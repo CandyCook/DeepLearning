{
 "cells": [
  {
   "cell_type": "code",
   "execution_count": 144,
   "id": "unusual-shaft",
   "metadata": {},
   "outputs": [],
   "source": [
    "import cv2\n",
    "import numpy as np\n",
    "import os\n"
   ]
  },
  {
   "cell_type": "code",
   "execution_count": 183,
   "id": "dressed-chosen",
   "metadata": {},
   "outputs": [],
   "source": [
    "#做人脸检测\n",
    "def DetectFace(file_path):\n",
    "    #加载级联分类器\n",
    "    face_cascade = cv2.CascadeClassifier(r\"haarcascade\\haarcascade_frontalface_default.xml\")\n",
    "    #读入图片\n",
    "    img = cv2.imread(file_path)\n",
    "    #转换为灰度图\n",
    "    gary = cv2.cvtColor(img,cv2.COLOR_BGR2GRAY)\n",
    "    faces = face_cascade.detectMultiScale(gary,1.3,10)#1.3 倍数 2为同一个区域检测次数\n",
    "    \n",
    "    #在原图中标注人脸\n",
    "    for (x,y,w,h) in faces:\n",
    "        img = cv2.rectangle(img,(x,y),(x+w,y+h),(0,0,255))\n",
    "    print(type(faces))\n",
    "    return faces\n",
    "    cv2.imshow('FaceDetect',img)\n",
    "    cv2.waitKey(0)\n",
    "    cv2.destroyAllWindows()\n",
    "        "
   ]
  },
  {
   "cell_type": "code",
   "execution_count": 30,
   "id": "proud-europe",
   "metadata": {},
   "outputs": [],
   "source": [
    "DetectFace(r\"facedata\\huge.jpg\")"
   ]
  },
  {
   "cell_type": "code",
   "execution_count": 238,
   "id": "instant-blood",
   "metadata": {},
   "outputs": [],
   "source": [
    "#做人脸检测数据输出\n",
    "def DetectFaceData(file_path):\n",
    "    #加载级联分类器\n",
    "    face_cascade = cv2.CascadeClassifier(r\"haarcascade\\haarcascade_frontalface_default.xml\")\n",
    "    #读入图片\n",
    "    img = cv2.imread(file_path)\n",
    "    #转换为灰度图\n",
    "    gary = cv2.cvtColor(img,cv2.COLOR_BGR2GRAY)\n",
    "    faces = face_cascade.detectMultiScale(gary,1.35,5)#1.3 倍数 2为同一个区域检测次数\n",
    "    \n",
    "#     #在原图中标注人脸\n",
    "#     for (x,y,w,h) in faces:\n",
    "#         img = cv2.rectangle(img,(x,y),(x+w,y+h),(0,0,255))\n",
    "\n",
    "    \n",
    "    return faces"
   ]
  },
  {
   "cell_type": "code",
   "execution_count": 210,
   "id": "blocked-parish",
   "metadata": {},
   "outputs": [
    {
     "data": {
      "text/plain": [
       "tuple"
      ]
     },
     "execution_count": 210,
     "metadata": {},
     "output_type": "execute_result"
    }
   ],
   "source": [
    "type((1,2))"
   ]
  },
  {
   "cell_type": "code",
   "execution_count": 248,
   "id": "contemporary-relaxation",
   "metadata": {},
   "outputs": [],
   "source": [
    "def detectFace(file_path,name):\n",
    "    imgPh = cv2.imread(file_path)\n",
    "    faces = DetectFaceData(file_path)\n",
    "    if type(faces) == type((1,1)):\n",
    "        return \n",
    "    else:\n",
    "        for (x,y,w,h) in faces:\n",
    "            imgPhAfter  = imgPh[y:y+h:,x:x+w:]\n",
    "        #原图缩放成人脸图\n",
    "        imgPhAfter = cv2.resize(imgPhAfter,(48,48),interpolation = cv2.INTER_NEAREST)\n",
    "\n",
    "        i =0 \n",
    "        fname = os.path.splitext(name)[0]\n",
    "        fsuffix = os.path.splitext(name)[1]\n",
    "        cv2.imwrite(\"ans\\\\train\\\\\"+fname+str(i)+fsuffix,imgPhAfter)\n",
    "\n",
    "\n",
    "        #沿y轴翻转\n",
    "        dst =cv2.flip(imgPhAfter,1)\n",
    "        i += 1\n",
    "        cv2.imwrite(\"ans\\\\train\\\\\"+fname+str(i)+fsuffix,dst)\n",
    "        #两个角度 两个倍数\n",
    "        angle = [5,-5]\n",
    "        scale = [1.25,0.85]\n",
    "        m =[]\n",
    "        for i  in angle:\n",
    "            for j in scale:\n",
    "                m.append(cv2.getRotationMatrix2D((24,24),i,j))\n",
    "        #得到m数组进行翻转\n",
    "        dst = []\n",
    "        i = 1 \n",
    "        for M in m:\n",
    "            i += 1\n",
    "            print(i)\n",
    "            res = cv2.warpAffine(imgPhAfter,M,(48,48),borderValue = (255,255,255))\n",
    "            cv2.imwrite(\"ans\\\\train\\\\\"+fname+str(i)+fsuffix,res)"
   ]
  },
  {
   "cell_type": "code",
   "execution_count": 186,
   "id": "detected-monroe",
   "metadata": {},
   "outputs": [
    {
     "name": "stdout",
     "output_type": "stream",
     "text": [
      "[[159 147 231 231]\n",
      " [111 501  89  89]]\n"
     ]
    }
   ],
   "source": [
    "detectFace(r'facedata\\wujing.jpg','wujing.jpg')"
   ]
  },
  {
   "cell_type": "code",
   "execution_count": 249,
   "id": "postal-trout",
   "metadata": {},
   "outputs": [
    {
     "name": "stdout",
     "output_type": "stream",
     "text": [
      "huge.jpg\n",
      "2\n",
      "3\n",
      "4\n",
      "5\n",
      "wujing.jpg\n",
      "2\n",
      "3\n",
      "4\n",
      "5\n",
      "zhangziyi.jpg\n",
      "2\n",
      "3\n",
      "4\n",
      "5\n",
      "Finish\n"
     ]
    }
   ],
   "source": [
    "for root, dirs, files in os.walk(r'D:\\1Opencv\\facedata'):\n",
    "        for file in files:\n",
    "            fname = os.path.splitext(file)[0]\n",
    "            fsuffix = os.path.splitext(file)[1]\n",
    "            filename = fname+fsuffix\n",
    "            print(filename)\n",
    "            detectFace(os.path.join(root, filename),file)\n",
    "print('Finish')    "
   ]
  },
  {
   "cell_type": "code",
   "execution_count": null,
   "id": "official-hearts",
   "metadata": {},
   "outputs": [],
   "source": []
  }
 ],
 "metadata": {
  "kernelspec": {
   "display_name": "Python 3",
   "language": "python",
   "name": "python3"
  },
  "language_info": {
   "codemirror_mode": {
    "name": "ipython",
    "version": 3
   },
   "file_extension": ".py",
   "mimetype": "text/x-python",
   "name": "python",
   "nbconvert_exporter": "python",
   "pygments_lexer": "ipython3",
   "version": "3.6.13"
  }
 },
 "nbformat": 4,
 "nbformat_minor": 5
}
