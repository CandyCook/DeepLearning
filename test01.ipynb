{
 "cells": [
  {
   "cell_type": "code",
   "execution_count": 1,
   "id": "african-footwear",
   "metadata": {},
   "outputs": [],
   "source": [
    "import cv2\n",
    "import numpy as np\n",
    "import torch"
   ]
  },
  {
   "cell_type": "markdown",
   "id": "wicked-study",
   "metadata": {},
   "source": [
    "# 图像的输入和保存\n"
   ]
  },
  {
   "cell_type": "code",
   "execution_count": 3,
   "id": "consistent-planning",
   "metadata": {},
   "outputs": [],
   "source": [
    "pic = cv2.imread(r\"image\\lenacolor.png\")"
   ]
  },
  {
   "cell_type": "code",
   "execution_count": 3,
   "id": "optimum-satellite",
   "metadata": {},
   "outputs": [
    {
     "name": "stdout",
     "output_type": "stream",
     "text": [
      "(512, 512, 3)\n"
     ]
    }
   ],
   "source": [
    "print(pic.shape)"
   ]
  },
  {
   "cell_type": "code",
   "execution_count": 4,
   "id": "suspended-monkey",
   "metadata": {},
   "outputs": [
    {
     "data": {
      "text/plain": [
       "numpy.ndarray"
      ]
     },
     "execution_count": 4,
     "metadata": {},
     "output_type": "execute_result"
    }
   ],
   "source": [
    "type(pic)"
   ]
  },
  {
   "cell_type": "code",
   "execution_count": 5,
   "id": "transsexual-indonesia",
   "metadata": {},
   "outputs": [
    {
     "data": {
      "text/plain": [
       "(512, 512, 3)"
      ]
     },
     "execution_count": 5,
     "metadata": {},
     "output_type": "execute_result"
    }
   ],
   "source": [
    "pic.shape"
   ]
  },
  {
   "cell_type": "code",
   "execution_count": 9,
   "id": "future-induction",
   "metadata": {},
   "outputs": [
    {
     "name": "stdout",
     "output_type": "stream",
     "text": [
      "97\n"
     ]
    },
    {
     "data": {
      "text/plain": [
       "98"
      ]
     },
     "execution_count": 9,
     "metadata": {},
     "output_type": "execute_result"
    }
   ],
   "source": [
    "# cv2.namedWindow(\"test\",0)\n",
    "cv2.imshow(\"cat\",pic)\n",
    "ret = cv2.waitKey(0)\n",
    "print(ret)\n",
    "cv2.waitKey(0)"
   ]
  },
  {
   "cell_type": "code",
   "execution_count": 7,
   "id": "printable-interface",
   "metadata": {},
   "outputs": [
    {
     "data": {
      "text/plain": [
       "True"
      ]
     },
     "execution_count": 7,
     "metadata": {},
     "output_type": "execute_result"
    }
   ],
   "source": [
    "cv2.imwrite(\"mn.jpg\",pic)"
   ]
  },
  {
   "cell_type": "markdown",
   "id": "accepting-drain",
   "metadata": {},
   "source": [
    "# 图像基本处理"
   ]
  },
  {
   "cell_type": "code",
   "execution_count": 29,
   "id": "narrow-while",
   "metadata": {},
   "outputs": [
    {
     "data": {
      "text/plain": [
       "array([255, 255, 255], dtype=uint8)"
      ]
     },
     "execution_count": 29,
     "metadata": {},
     "output_type": "execute_result"
    }
   ],
   "source": [
    "pic[100,100] "
   ]
  },
  {
   "cell_type": "code",
   "execution_count": 11,
   "id": "thousand-utilization",
   "metadata": {},
   "outputs": [],
   "source": [
    "pic[100,100] = [255,255,255]"
   ]
  },
  {
   "cell_type": "code",
   "execution_count": 12,
   "id": "incorrect-carrier",
   "metadata": {},
   "outputs": [
    {
     "data": {
      "text/plain": [
       "array([255, 255, 255], dtype=uint8)"
      ]
     },
     "execution_count": 12,
     "metadata": {},
     "output_type": "execute_result"
    }
   ],
   "source": [
    "pic[100,100] "
   ]
  },
  {
   "cell_type": "code",
   "execution_count": 24,
   "id": "superb-suspect",
   "metadata": {},
   "outputs": [],
   "source": [
    "pic[100:151:,100:151:]=[255,255,255]\n",
    "\n"
   ]
  },
  {
   "cell_type": "code",
   "execution_count": 25,
   "id": "young-blues",
   "metadata": {},
   "outputs": [],
   "source": [
    "cv2.imshow(\"cat\",pic)\n",
    "ret = cv2.waitKey(0)"
   ]
  },
  {
   "cell_type": "code",
   "execution_count": 26,
   "id": "removable-portable",
   "metadata": {},
   "outputs": [],
   "source": [
    "face = pic[220:400,250:350]"
   ]
  },
  {
   "cell_type": "code",
   "execution_count": 27,
   "id": "greenhouse-ceiling",
   "metadata": {},
   "outputs": [],
   "source": [
    "cv2.imshow(\"cat\",face)\n",
    "ret = cv2.waitKey(0)"
   ]
  },
  {
   "cell_type": "code",
   "execution_count": 40,
   "id": "indian-southeast",
   "metadata": {},
   "outputs": [
    {
     "ename": "ValueError",
     "evalue": "could not broadcast input array from shape (100,113,3) into shape (81,112,3)",
     "output_type": "error",
     "traceback": [
      "\u001b[1;31m---------------------------------------------------------------------------\u001b[0m",
      "\u001b[1;31mValueError\u001b[0m                                Traceback (most recent call last)",
      "\u001b[1;32m<ipython-input-40-28fde9efae3e>\u001b[0m in \u001b[0;36m<module>\u001b[1;34m\u001b[0m\n\u001b[0;32m      1\u001b[0m \u001b[0mtrump\u001b[0m \u001b[1;33m=\u001b[0m \u001b[0mcv2\u001b[0m\u001b[1;33m.\u001b[0m\u001b[0mimread\u001b[0m\u001b[1;33m(\u001b[0m\u001b[1;34mr'image\\trump_face.png'\u001b[0m\u001b[1;33m)\u001b[0m\u001b[1;33m\u001b[0m\u001b[1;33m\u001b[0m\u001b[0m\n\u001b[1;32m----> 2\u001b[1;33m \u001b[0mpic\u001b[0m\u001b[1;33m[\u001b[0m\u001b[1;36m250\u001b[0m\u001b[1;33m:\u001b[0m\u001b[1;36m331\u001b[0m\u001b[1;33m,\u001b[0m\u001b[1;36m332\u001b[0m\u001b[1;33m:\u001b[0m\u001b[1;36m444\u001b[0m\u001b[1;33m]\u001b[0m \u001b[1;33m=\u001b[0m \u001b[0mtrump\u001b[0m\u001b[1;33m\u001b[0m\u001b[1;33m\u001b[0m\u001b[0m\n\u001b[0m\u001b[0;32m      3\u001b[0m \u001b[0mcv2\u001b[0m\u001b[1;33m.\u001b[0m\u001b[0mimshow\u001b[0m\u001b[1;33m(\u001b[0m\u001b[1;34m\"cat\"\u001b[0m\u001b[1;33m,\u001b[0m\u001b[0mtrump\u001b[0m\u001b[1;33m)\u001b[0m\u001b[1;33m\u001b[0m\u001b[1;33m\u001b[0m\u001b[0m\n\u001b[0;32m      4\u001b[0m \u001b[0mret\u001b[0m \u001b[1;33m=\u001b[0m \u001b[0mcv2\u001b[0m\u001b[1;33m.\u001b[0m\u001b[0mwaitKey\u001b[0m\u001b[1;33m(\u001b[0m\u001b[1;36m0\u001b[0m\u001b[1;33m)\u001b[0m\u001b[1;33m\u001b[0m\u001b[1;33m\u001b[0m\u001b[0m\n",
      "\u001b[1;31mValueError\u001b[0m: could not broadcast input array from shape (100,113,3) into shape (81,112,3)"
     ]
    }
   ],
   "source": [
    "trump = cv2.imread(r'image\\trump_face.png')\n",
    "pic[250:331,332:444] = trump\n",
    "cv2.imshow(\"cat\",trump)\n",
    "ret = cv2.waitKey(0)"
   ]
  },
  {
   "cell_type": "code",
   "execution_count": 52,
   "id": "qualified-store",
   "metadata": {},
   "outputs": [],
   "source": [
    "trump = cv2.imread(r'image\\trump_face.png')\n",
    "\n",
    "pic[250:350,240:353] = trump"
   ]
  },
  {
   "cell_type": "code",
   "execution_count": 53,
   "id": "stock-clearing",
   "metadata": {},
   "outputs": [],
   "source": [
    "cv2.imshow(\"cat\",pic)\n",
    "ret = cv2.waitKey(0)"
   ]
  },
  {
   "cell_type": "code",
   "execution_count": 5,
   "id": "constitutional-aaron",
   "metadata": {},
   "outputs": [],
   "source": [
    "b,g,r = cv2.split(pic)"
   ]
  },
  {
   "cell_type": "code",
   "execution_count": 55,
   "id": "linear-clock",
   "metadata": {},
   "outputs": [
    {
     "data": {
      "text/plain": [
       "array([[125, 125, 133, ..., 122, 110,  90],\n",
       "       [125, 125, 133, ..., 122, 110,  90],\n",
       "       [125, 125, 133, ..., 122, 110,  90],\n",
       "       ...,\n",
       "       [ 60,  60,  58, ...,  84,  76,  79],\n",
       "       [ 57,  57,  62, ...,  79,  81,  81],\n",
       "       [ 57,  57,  62, ...,  79,  81,  81]], dtype=uint8)"
      ]
     },
     "execution_count": 55,
     "metadata": {},
     "output_type": "execute_result"
    }
   ],
   "source": [
    "b\n"
   ]
  },
  {
   "cell_type": "code",
   "execution_count": 6,
   "id": "continuing-winter",
   "metadata": {},
   "outputs": [
    {
     "data": {
      "text/plain": [
       "-1"
      ]
     },
     "execution_count": 6,
     "metadata": {},
     "output_type": "execute_result"
    }
   ],
   "source": [
    "cv2.imshow('b',b)\n",
    "cv2.waitKey(0)"
   ]
  },
  {
   "cell_type": "code",
   "execution_count": 11,
   "id": "secure-birth",
   "metadata": {},
   "outputs": [],
   "source": [
    "result = cv2.merge([r,b,g])"
   ]
  },
  {
   "cell_type": "code",
   "execution_count": 13,
   "id": "opponent-vienna",
   "metadata": {},
   "outputs": [],
   "source": [
    "cv2.imshow('b',result)\n",
    "cv2.waitKey(0)\n",
    "cv2.destroyAllWindows()"
   ]
  },
  {
   "cell_type": "markdown",
   "id": "white-stanford",
   "metadata": {},
   "source": [
    "# 图像运算"
   ]
  },
  {
   "cell_type": "code",
   "execution_count": 37,
   "id": "acoustic-halifax",
   "metadata": {},
   "outputs": [],
   "source": [
    "img = cv2.imread(r\"image\\lena512.bmp\")\n",
    "boat = cv2.imread(r\"image\\boat.bmp\")\n",
    "boat = boat[0:512:,0:512:]"
   ]
  },
  {
   "cell_type": "code",
   "execution_count": 22,
   "id": "several-mineral",
   "metadata": {},
   "outputs": [
    {
     "data": {
      "text/plain": [
       "-1"
      ]
     },
     "execution_count": 22,
     "metadata": {},
     "output_type": "execute_result"
    }
   ],
   "source": [
    "cv2.imshow('jia',resultl)\n",
    "cv2.waitKey(0)"
   ]
  },
  {
   "cell_type": "code",
   "execution_count": 21,
   "id": "present-dayton",
   "metadata": {},
   "outputs": [],
   "source": [
    "resultl = img + img"
   ]
  },
  {
   "cell_type": "code",
   "execution_count": 23,
   "id": "listed-explanation",
   "metadata": {},
   "outputs": [],
   "source": [
    "res2 =  cv2.add(img,img)"
   ]
  },
  {
   "cell_type": "code",
   "execution_count": 24,
   "id": "revised-gateway",
   "metadata": {},
   "outputs": [
    {
     "data": {
      "text/plain": [
       "-1"
      ]
     },
     "execution_count": 24,
     "metadata": {},
     "output_type": "execute_result"
    }
   ],
   "source": [
    "cv2.imshow('jia',res2)\n",
    "cv2.waitKey(0)"
   ]
  },
  {
   "cell_type": "code",
   "execution_count": 38,
   "id": "spare-teach",
   "metadata": {},
   "outputs": [],
   "source": [
    "res3 =  cv2.addWeighted(img,0.7,boat,0.3,0)"
   ]
  },
  {
   "cell_type": "code",
   "execution_count": 39,
   "id": "stock-greece",
   "metadata": {},
   "outputs": [
    {
     "data": {
      "text/plain": [
       "-1"
      ]
     },
     "execution_count": 39,
     "metadata": {},
     "output_type": "execute_result"
    }
   ],
   "source": [
    "cv2.imshow('jia',res3)\n",
    "cv2.waitKey(0)"
   ]
  },
  {
   "cell_type": "markdown",
   "id": "qualified-endorsement",
   "metadata": {},
   "source": [
    "# 图像转换"
   ]
  },
  {
   "cell_type": "code",
   "execution_count": 50,
   "id": "similar-straight",
   "metadata": {},
   "outputs": [],
   "source": [
    "img  = cv2.imread(r'image/lena.bmp',cv2.IMREAD_COLOR)"
   ]
  },
  {
   "cell_type": "code",
   "execution_count": null,
   "id": "fatty-metallic",
   "metadata": {},
   "outputs": [],
   "source": [
    "# cv2.cvtColor(img,cv2.BGR2G)"
   ]
  },
  {
   "cell_type": "code",
   "execution_count": 49,
   "id": "offensive-carrier",
   "metadata": {},
   "outputs": [
    {
     "data": {
      "text/plain": [
       "-1"
      ]
     },
     "execution_count": 49,
     "metadata": {},
     "output_type": "execute_result"
    }
   ],
   "source": [
    "cv2.imshow('jia',img)\n",
    "cv2.waitKey(0)"
   ]
  },
  {
   "cell_type": "code",
   "execution_count": 46,
   "id": "front-calvin",
   "metadata": {},
   "outputs": [
    {
     "data": {
      "text/plain": [
       "(512, 512, 3)"
      ]
     },
     "execution_count": 46,
     "metadata": {},
     "output_type": "execute_result"
    }
   ],
   "source": [
    "img.shape"
   ]
  },
  {
   "cell_type": "code",
   "execution_count": 47,
   "id": "painted-apartment",
   "metadata": {},
   "outputs": [
    {
     "data": {
      "text/plain": [
       "array([[[156, 156, 156],\n",
       "        [164, 164, 164],\n",
       "        [156, 156, 156],\n",
       "        ...,\n",
       "        [164, 164, 164],\n",
       "        [156, 156, 156],\n",
       "        [132, 132, 132]],\n",
       "\n",
       "       [[164, 164, 164],\n",
       "        [164, 164, 164],\n",
       "        [164, 164, 164],\n",
       "        ...,\n",
       "        [172, 172, 172],\n",
       "        [156, 156, 156],\n",
       "        [124, 124, 124]],\n",
       "\n",
       "       [[164, 164, 164],\n",
       "        [156, 156, 156],\n",
       "        [164, 164, 164],\n",
       "        ...,\n",
       "        [164, 164, 164],\n",
       "        [156, 156, 156],\n",
       "        [132, 132, 132]],\n",
       "\n",
       "       ...,\n",
       "\n",
       "       [[ 44,  44,  44],\n",
       "        [ 44,  44,  44],\n",
       "        [ 52,  52,  52],\n",
       "        ...,\n",
       "        [108, 108, 108],\n",
       "        [100, 100, 100],\n",
       "        [100, 100, 100]],\n",
       "\n",
       "       [[ 44,  44,  44],\n",
       "        [ 44,  44,  44],\n",
       "        [ 60,  60,  60],\n",
       "        ...,\n",
       "        [100, 100, 100],\n",
       "        [108, 108, 108],\n",
       "        [108, 108, 108]],\n",
       "\n",
       "       [[ 44,  44,  44],\n",
       "        [ 44,  44,  44],\n",
       "        [ 52,  52,  52],\n",
       "        ...,\n",
       "        [108, 108, 108],\n",
       "        [100, 100, 100],\n",
       "        [108, 108, 108]]], dtype=uint8)"
      ]
     },
     "execution_count": 47,
     "metadata": {},
     "output_type": "execute_result"
    }
   ],
   "source": [
    "img\n"
   ]
  },
  {
   "cell_type": "code",
   "execution_count": 4,
   "id": "excess-qatar",
   "metadata": {},
   "outputs": [],
   "source": [
    "img  = cv2.imread(r'image/test_Hillary.jpg')"
   ]
  },
  {
   "cell_type": "code",
   "execution_count": 5,
   "id": "broadband-thread",
   "metadata": {},
   "outputs": [],
   "source": [
    "res1 = cv2.resize(img,None,fx =4,fy=4,interpolation = cv2.INTER_NEAREST)\n",
    "res2 = cv2.resize(img,None,fx =4,fy=4,interpolation = cv2.INTER_NEAREST_EXACT)"
   ]
  },
  {
   "cell_type": "code",
   "execution_count": 7,
   "id": "atomic-duplicate",
   "metadata": {},
   "outputs": [
    {
     "data": {
      "text/plain": [
       "32"
      ]
     },
     "execution_count": 7,
     "metadata": {},
     "output_type": "execute_result"
    }
   ],
   "source": [
    "cv2.imshow('jia',res2)\n",
    "cv2.waitKey(0)"
   ]
  },
  {
   "cell_type": "code",
   "execution_count": 6,
   "id": "demanding-cherry",
   "metadata": {},
   "outputs": [],
   "source": [
    "img = cv2.imread(r\"image\\lenacolor.png\")"
   ]
  },
  {
   "cell_type": "code",
   "execution_count": 9,
   "id": "offshore-prairie",
   "metadata": {},
   "outputs": [
    {
     "data": {
      "text/plain": [
       "768.0"
      ]
     },
     "execution_count": 9,
     "metadata": {},
     "output_type": "execute_result"
    }
   ],
   "source": [
    "size = 512 *1.5\n",
    "size"
   ]
  },
  {
   "cell_type": "code",
   "execution_count": 16,
   "id": "false-mouth",
   "metadata": {},
   "outputs": [],
   "source": [
    "res = cv2.resize(img,(int(size),int(size)),cv2.INTER_LINEAR )#resize是修改宽高看是否xy相反"
   ]
  },
  {
   "cell_type": "code",
   "execution_count": 21,
   "id": "adjusted-london",
   "metadata": {},
   "outputs": [],
   "source": [
    "res2 = cv2.resize(img,None,fx =0.5,fy =0.5 ,interpolation = cv2.INTER_LINEAR)"
   ]
  },
  {
   "cell_type": "code",
   "execution_count": 22,
   "id": "undefined-constitutional",
   "metadata": {},
   "outputs": [
    {
     "data": {
      "text/plain": [
       "-1"
      ]
     },
     "execution_count": 22,
     "metadata": {},
     "output_type": "execute_result"
    }
   ],
   "source": [
    "cv2.imshow('jia',res)\n",
    "cv2.imshow('jian',res2)\n",
    "\n",
    "cv2.waitKey(0)"
   ]
  },
  {
   "cell_type": "code",
   "execution_count": 24,
   "id": "hollow-acceptance",
   "metadata": {},
   "outputs": [],
   "source": [
    "dstx = cv2.flip(img,0)\n",
    "dsty = cv2.flip(img,1)\n",
    "dstz = cv2.flip(img,-2)\n"
   ]
  },
  {
   "cell_type": "code",
   "execution_count": 25,
   "id": "olive-height",
   "metadata": {},
   "outputs": [
    {
     "data": {
      "text/plain": [
       "-1"
      ]
     },
     "execution_count": 25,
     "metadata": {},
     "output_type": "execute_result"
    }
   ],
   "source": [
    "cv2.imshow('x',dstx)\n",
    "cv2.imshow('y',dsty)\n",
    "cv2.imshow('x,y',dstz)\n",
    "cv2.imshow('yuantu',img)\n",
    "cv2.waitKey(0)"
   ]
  },
  {
   "cell_type": "code",
   "execution_count": 46,
   "id": "minor-insertion",
   "metadata": {},
   "outputs": [],
   "source": [
    "height,width = img.shape[:2]"
   ]
  },
  {
   "cell_type": "code",
   "execution_count": 62,
   "id": "documented-construction",
   "metadata": {},
   "outputs": [],
   "source": [
    "srcpic  = np.array([[122,73],[317,112],[70,239]],dtype= np.float32)"
   ]
  },
  {
   "cell_type": "code",
   "execution_count": 63,
   "id": "smooth-priority",
   "metadata": {},
   "outputs": [],
   "source": [
    "after  = np.array([[111,345],[132,374],[171,256]],dtype = np.float32)"
   ]
  },
  {
   "cell_type": "code",
   "execution_count": 64,
   "id": "enclosed-colon",
   "metadata": {},
   "outputs": [],
   "source": [
    "M = cv2.getAffineTransform(srcpic,after)"
   ]
  },
  {
   "cell_type": "code",
   "execution_count": 65,
   "id": "mysterious-america",
   "metadata": {},
   "outputs": [],
   "source": [
    "ans  = cv2.warpAffine(img,M,(height,width),borderValue = (255,255,255))"
   ]
  },
  {
   "cell_type": "code",
   "execution_count": 66,
   "id": "parallel-calvin",
   "metadata": {},
   "outputs": [
    {
     "data": {
      "text/plain": [
       "-1"
      ]
     },
     "execution_count": 66,
     "metadata": {},
     "output_type": "execute_result"
    }
   ],
   "source": [
    "cv2.imshow('x',ans)\n",
    "cv2.imshow('source',img)\n",
    "cv2.waitKey(0)"
   ]
  },
  {
   "cell_type": "code",
   "execution_count": null,
   "id": "impaired-annual",
   "metadata": {},
   "outputs": [],
   "source": []
  }
 ],
 "metadata": {
  "kernelspec": {
   "display_name": "Python 3",
   "language": "python",
   "name": "python3"
  },
  "language_info": {
   "codemirror_mode": {
    "name": "ipython",
    "version": 3
   },
   "file_extension": ".py",
   "mimetype": "text/x-python",
   "name": "python",
   "nbconvert_exporter": "python",
   "pygments_lexer": "ipython3",
   "version": "3.6.13"
  }
 },
 "nbformat": 4,
 "nbformat_minor": 5
}
