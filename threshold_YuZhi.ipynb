{
 "cells": [
  {
   "cell_type": "code",
   "execution_count": 1,
   "metadata": {},
   "outputs": [],
   "source": [
    "import cv2\n",
    "import numpy as np"
   ]
  },
  {
   "cell_type": "markdown",
   "metadata": {},
   "source": [
    "阈值分割\n",
    "\n",
    "1、反二进制阈值化\n",
    "2、二进制阈值化\n",
    "3、"
   ]
  },
  {
   "cell_type": "code",
   "execution_count": 3,
   "metadata": {},
   "outputs": [],
   "source": [
    "img = cv2.imread(r'image\\cameraman.tif',cv2.IMREAD_GRAYSCALE)\n"
   ]
  },
  {
   "cell_type": "code",
   "execution_count": 4,
   "metadata": {},
   "outputs": [
    {
     "data": {
      "text/plain": [
       "(256, 256)"
      ]
     },
     "execution_count": 4,
     "metadata": {},
     "output_type": "execute_result"
    }
   ],
   "source": [
    "img.shape"
   ]
  },
  {
   "cell_type": "code",
   "execution_count": 6,
   "metadata": {},
   "outputs": [],
   "source": [
    "thresh1,dst1 = cv2.threshold(img,100,255,cv2.THRESH_BINARY)\n",
    "thresh2,dst2 = cv2.threshold(img,100,255,cv2.THRESH_BINARY_INV)\n",
    "thresh3,dst3 = cv2.threshold(img,100,255,cv2.THRESH_TRUNC)\n",
    "thresh4,dst4 = cv2.threshold(img,100,255,cv2.THRESH_TOZERO)\n",
    "thresh5,dst5 = cv2.threshold(img,100,255,cv2.THRESH_TOZERO_INV)"
   ]
  },
  {
   "cell_type": "code",
   "execution_count": 7,
   "metadata": {},
   "outputs": [],
   "source": [
    "cv2.imshow(\"img\",img)\n",
    "cv2.imshow(\"binary\",dst1)\n",
    "cv2.imshow(\"binary_inv\",dst2)\n",
    "cv2.imshow(\"trunc\",dst3)\n",
    "cv2.imshow(\"to 0\",dst4)\n",
    "cv2.imshow(\"to 0 inv\",dst5)\n",
    "\n",
    "cv2.waitKey(0)\n",
    "cv2.destroyAllWindows()"
   ]
  },
  {
   "cell_type": "code",
   "execution_count": 11,
   "metadata": {},
   "outputs": [],
   "source": [
    "cat = cv2.imread(r'image\\kitty.jpg',cv2.IMREAD_GRAYSCALE)\n",
    "dog = cv2.imread(r'image\\dog.jpg',cv2.IMREAD_GRAYSCALE)\n"
   ]
  },
  {
   "cell_type": "code",
   "execution_count": 59,
   "metadata": {},
   "outputs": [],
   "source": [
    "threshCat,dstCat = cv2.threshold(cat,0,255,cv2.THRESH_BINARY_INV|cv2.THRESH_OTSU)\n",
    "threshDog,dstDog = cv2.threshold(dog,0,255,cv2.THRESH_BINARY|cv2.THRESH_OTSU)"
   ]
  },
  {
   "cell_type": "code",
   "execution_count": 60,
   "metadata": {},
   "outputs": [],
   "source": [
    "cv2.imshow(\"cat\",cat)\n",
    "cv2.imshow(\"binary_invdstCat\",dstCat)\n",
    "\n",
    "cv2.imshow(\"dog\",dog)\n",
    "cv2.imshow(\"binary_invdstDog\",dstDog)\n",
    "\n",
    "\n",
    "cv2.waitKey(0)\n",
    "cv2.destroyAllWindows()"
   ]
  },
  {
   "cell_type": "code",
   "execution_count": 62,
   "metadata": {},
   "outputs": [
    {
     "data": {
      "text/plain": [
       "(158.0, 174.0)"
      ]
     },
     "execution_count": 62,
     "metadata": {},
     "output_type": "execute_result"
    }
   ],
   "source": [
    "threshCat,threshDog"
   ]
  },
  {
   "cell_type": "markdown",
   "metadata": {},
   "source": [
    "## 图像滤波"
   ]
  },
  {
   "cell_type": "code",
   "execution_count": 63,
   "metadata": {},
   "outputs": [],
   "source": [
    "img =cv2.imread(r\"image\\lenacolor.png\")"
   ]
  },
  {
   "cell_type": "code",
   "execution_count": 74,
   "metadata": {},
   "outputs": [],
   "source": [
    "dst1 = cv2.blur(img,(4,4))#\n",
    "dst2 = cv2.GaussianBlur(img,(3,3),sigmaX = 5)#高斯滤波\n",
    "dst3 = cv2.medianBlur(img,3)#中值滤波"
   ]
  },
  {
   "cell_type": "code",
   "execution_count": 75,
   "metadata": {},
   "outputs": [],
   "source": [
    "cv2.imshow(\"blur\",dst)\n",
    "cv2.imshow(\"src\",img)\n",
    "\n",
    "cv2.imshow(\"Gauss\",dst2)\n",
    "cv2.imshow(\"Medi\",dst3)\n",
    "\n",
    "cv2.waitKey(0)\n",
    "cv2.destroyAllWindows()"
   ]
  },
  {
   "cell_type": "code",
   "execution_count": 76,
   "metadata": {},
   "outputs": [],
   "source": [
    "img2 =cv2.imread(r\"image\\lenaNoise.png\")"
   ]
  },
  {
   "cell_type": "code",
   "execution_count": 77,
   "metadata": {},
   "outputs": [],
   "source": [
    "dst1 = cv2.blur(img2,(4,4))#\n",
    "dst2 = cv2.GaussianBlur(img2,(3,3),sigmaX = 5)#高斯滤波\n",
    "dst3 = cv2.medianBlur(img2,3)#中值滤波"
   ]
  },
  {
   "cell_type": "code",
   "execution_count": 78,
   "metadata": {},
   "outputs": [],
   "source": [
    "cv2.imshow(\"blur\",dst1)\n",
    "cv2.imshow(\"src\",img2)\n",
    "\n",
    "cv2.imshow(\"Gauss\",dst2)\n",
    "cv2.imshow(\"Medi\",dst3)\n",
    "\n",
    "cv2.waitKey(0)\n",
    "cv2.destroyAllWindows()"
   ]
  },
  {
   "cell_type": "markdown",
   "metadata": {},
   "source": [
    "### 腐蚀\n"
   ]
  },
  {
   "cell_type": "code",
   "execution_count": 79,
   "metadata": {},
   "outputs": [
    {
     "data": {
      "text/plain": [
       "(600, 800)"
      ]
     },
     "execution_count": 79,
     "metadata": {},
     "output_type": "execute_result"
    }
   ],
   "source": [
    "img = cv2.imread(r'image\\erode.bmp',cv2.IMREAD_GRAYSCALE)\n",
    "img.shape"
   ]
  },
  {
   "cell_type": "code",
   "execution_count": 97,
   "metadata": {},
   "outputs": [],
   "source": [
    "kernel = np.ones((9,9),dtype = np.uint8)"
   ]
  },
  {
   "cell_type": "code",
   "execution_count": 98,
   "metadata": {},
   "outputs": [
    {
     "data": {
      "text/plain": [
       "array([[1, 1, 1, 1, 1, 1, 1, 1, 1],\n",
       "       [1, 1, 1, 1, 1, 1, 1, 1, 1],\n",
       "       [1, 1, 1, 1, 1, 1, 1, 1, 1],\n",
       "       [1, 1, 1, 1, 1, 1, 1, 1, 1],\n",
       "       [1, 1, 1, 1, 1, 1, 1, 1, 1],\n",
       "       [1, 1, 1, 1, 1, 1, 1, 1, 1],\n",
       "       [1, 1, 1, 1, 1, 1, 1, 1, 1],\n",
       "       [1, 1, 1, 1, 1, 1, 1, 1, 1],\n",
       "       [1, 1, 1, 1, 1, 1, 1, 1, 1]], dtype=uint8)"
      ]
     },
     "execution_count": 98,
     "metadata": {},
     "output_type": "execute_result"
    }
   ],
   "source": [
    "kernel"
   ]
  },
  {
   "cell_type": "code",
   "execution_count": 105,
   "metadata": {},
   "outputs": [],
   "source": [
    "dst = cv2.erode(img,kernel,iterations  = 3)#腐蚀"
   ]
  },
  {
   "cell_type": "markdown",
   "metadata": {},
   "source": [
    "## 膨胀"
   ]
  },
  {
   "cell_type": "code",
   "execution_count": 108,
   "metadata": {},
   "outputs": [],
   "source": [
    "img2 = cv2.imread(r\"image\\dilation.bmp\",cv2.IMREAD_GRAYSCALE)"
   ]
  },
  {
   "cell_type": "code",
   "execution_count": 109,
   "metadata": {},
   "outputs": [],
   "source": [
    "kernel = np.ones((3,3),dtype = np.uint8)"
   ]
  },
  {
   "cell_type": "code",
   "execution_count": 111,
   "metadata": {},
   "outputs": [],
   "source": [
    "dst2  = cv2.dilate(img2,kernel,iterations = 3)"
   ]
  },
  {
   "cell_type": "code",
   "execution_count": 112,
   "metadata": {},
   "outputs": [],
   "source": [
    "cv2.imshow(\"Medi\",dst2)\n",
    "cv2.imshow(\"img\",img2)\n",
    "cv2.waitKey(0)\n",
    "cv2.destroyAllWindows()"
   ]
  },
  {
   "cell_type": "markdown",
   "metadata": {},
   "source": [
    "## 开运算\n",
    "###  先腐蚀再膨胀\n",
    "开运算可以去除物体外部噪声"
   ]
  },
  {
   "cell_type": "code",
   "execution_count": 114,
   "metadata": {},
   "outputs": [
    {
     "data": {
      "text/plain": [
       "(600, 800)"
      ]
     },
     "execution_count": 114,
     "metadata": {},
     "output_type": "execute_result"
    }
   ],
   "source": [
    "openling = cv2.imread(r\"image\\opening.bmp\",cv2.IMREAD_GRAYSCALE)\n",
    "openling.shape"
   ]
  },
  {
   "cell_type": "code",
   "execution_count": 117,
   "metadata": {},
   "outputs": [],
   "source": [
    "dst = cv2.morphologyEx(openling,cv2.MORPH_OPEN,kernel,iterations = 5)"
   ]
  },
  {
   "cell_type": "code",
   "execution_count": 118,
   "metadata": {},
   "outputs": [],
   "source": [
    "cv2.imshow(\"Medi\",dst)\n",
    "cv2.imshow(\"img\",openling)\n",
    "cv2.waitKey(0)\n",
    "cv2.destroyAllWindows()"
   ]
  },
  {
   "cell_type": "markdown",
   "metadata": {},
   "source": [
    "## 闭运算\n",
    "###  先膨胀再腐蚀\n",
    "闭运算可以去除物体内部噪声"
   ]
  },
  {
   "cell_type": "code",
   "execution_count": 131,
   "metadata": {},
   "outputs": [],
   "source": [
    "closing = cv2.imread(r\"image\\closing.bmp\",cv2.IMREAD_GRAYSCALE)"
   ]
  },
  {
   "cell_type": "code",
   "execution_count": 140,
   "metadata": {},
   "outputs": [],
   "source": [
    "dst = cv2.morphologyEx(closing,cv2.MORPH_GRADIENT,kernel,iterations = 20)"
   ]
  },
  {
   "cell_type": "code",
   "execution_count": 141,
   "metadata": {},
   "outputs": [],
   "source": [
    "cv2.imshow(\"Medi\",dst)\n",
    "cv2.imshow(\"img\",openling)\n",
    "cv2.waitKey(0)\n",
    "cv2.destroyAllWindows()"
   ]
  },
  {
   "cell_type": "markdown",
   "metadata": {},
   "source": [
    "## 作业"
   ]
  },
  {
   "cell_type": "code",
   "execution_count": 203,
   "metadata": {},
   "outputs": [],
   "source": [
    "cat = cv2.imread(r'image\\kitty.jpg',cv2.IMREAD_GRAYSCALE)\n",
    "catSRC = cv2.imread(r'image\\kitty.jpg')\n",
    "dog = cv2.imread(r'image\\dog.jpg',cv2.IMREAD_GRAYSCALE)"
   ]
  },
  {
   "cell_type": "code",
   "execution_count": 193,
   "metadata": {},
   "outputs": [],
   "source": [
    "threshCat,dstCat = cv2.threshold(cat,0,255,cv2.THRESH_BINARY_INV|cv2.THRESH_OTSU)\n",
    "threshDog,dstDog = cv2.threshold(dog,0,255,cv2.THRESH_BINARY|cv2.THRESH_OTSU)"
   ]
  },
  {
   "cell_type": "code",
   "execution_count": 144,
   "metadata": {},
   "outputs": [],
   "source": []
  },
  {
   "cell_type": "code",
   "execution_count": 194,
   "metadata": {},
   "outputs": [],
   "source": [
    "kernel = np.ones((2,2),dtype = np.uint8)"
   ]
  },
  {
   "cell_type": "code",
   "execution_count": 195,
   "metadata": {},
   "outputs": [],
   "source": [
    "CatMorph = cv2.morphologyEx(dstCat,cv2.MORPH_OPEN,kernel,iterations = 5 )"
   ]
  },
  {
   "cell_type": "code",
   "execution_count": 167,
   "metadata": {},
   "outputs": [],
   "source": [
    "cv2.imshow(\"cat\",cat)\n",
    "cv2.imshow(\"binary_invdstCat\",CatMorph)\n",
    "\n",
    "# cv2.imshow(\"dog\",dog)\n",
    "# cv2.imshow(\"binary_invdstDog\",dstDog)\n",
    "\n",
    "\n",
    "cv2.waitKey(0)\n",
    "cv2.destroyAllWindows()"
   ]
  },
  {
   "cell_type": "code",
   "execution_count": 168,
   "metadata": {},
   "outputs": [
    {
     "data": {
      "text/plain": [
       "array([[0, 0, 0, ..., 0, 0, 0],\n",
       "       [0, 0, 0, ..., 0, 0, 0],\n",
       "       [0, 0, 0, ..., 0, 0, 0],\n",
       "       ...,\n",
       "       [0, 0, 0, ..., 0, 0, 0],\n",
       "       [0, 0, 0, ..., 0, 0, 0],\n",
       "       [0, 0, 0, ..., 0, 0, 0]], dtype=uint8)"
      ]
     },
     "execution_count": 168,
     "metadata": {},
     "output_type": "execute_result"
    }
   ],
   "source": [
    "CatMorph"
   ]
  },
  {
   "cell_type": "code",
   "execution_count": 171,
   "metadata": {},
   "outputs": [],
   "source": [
    "(x,y) = CatMorph.shape"
   ]
  },
  {
   "cell_type": "code",
   "execution_count": 177,
   "metadata": {
    "scrolled": true
   },
   "outputs": [
    {
     "name": "stdout",
     "output_type": "stream",
     "text": [
      "(array([ 26,  26,  26, ..., 542, 542, 542], dtype=int64), array([196, 197, 198, ..., 354, 355, 356], dtype=int64))\n"
     ]
    }
   ],
   "source": [
    "print(np.where(CatMorph==255))\n"
   ]
  },
  {
   "cell_type": "code",
   "execution_count": 196,
   "metadata": {},
   "outputs": [],
   "source": [
    "minx = min(np.where(CatMorph==255)[0])\n",
    "miny = min(np.where(CatMorph==255)[1])"
   ]
  },
  {
   "cell_type": "code",
   "execution_count": 182,
   "metadata": {
    "scrolled": true
   },
   "outputs": [
    {
     "data": {
      "text/plain": [
       "93"
      ]
     },
     "execution_count": 182,
     "metadata": {},
     "output_type": "execute_result"
    }
   ],
   "source": [
    "miny"
   ]
  },
  {
   "cell_type": "code",
   "execution_count": 197,
   "metadata": {},
   "outputs": [],
   "source": [
    "maxx = max(np.where(CatMorph==255)[0])\n",
    "maxy = max(np.where(CatMorph==255)[1])"
   ]
  },
  {
   "cell_type": "code",
   "execution_count": 206,
   "metadata": {
    "collapsed": true
   },
   "outputs": [
    {
     "data": {
      "text/plain": [
       "array([[[201, 226, 228],\n",
       "        [200, 225, 227],\n",
       "        [203, 226, 228],\n",
       "        ...,\n",
       "        [228, 228, 228],\n",
       "        [254, 254, 254],\n",
       "        [255, 255, 255]],\n",
       "\n",
       "       [[198, 223, 225],\n",
       "        [196, 221, 223],\n",
       "        [196, 219, 221],\n",
       "        ...,\n",
       "        [228, 228, 228],\n",
       "        [254, 254, 254],\n",
       "        [255, 255, 255]],\n",
       "\n",
       "       [[200, 223, 225],\n",
       "        [196, 219, 221],\n",
       "        [191, 214, 216],\n",
       "        ...,\n",
       "        [228, 228, 228],\n",
       "        [254, 254, 254],\n",
       "        [255, 255, 255]],\n",
       "\n",
       "       ...,\n",
       "\n",
       "       [[253, 254, 255],\n",
       "        [253, 254, 255],\n",
       "        [253, 254, 255],\n",
       "        ...,\n",
       "        [243, 243, 243],\n",
       "        [255, 255, 255],\n",
       "        [253, 253, 253]],\n",
       "\n",
       "       [[250, 251, 255],\n",
       "        [250, 251, 255],\n",
       "        [250, 251, 255],\n",
       "        ...,\n",
       "        [253, 253, 253],\n",
       "        [255, 255, 255],\n",
       "        [253, 253, 253]],\n",
       "\n",
       "       [[253, 254, 255],\n",
       "        [253, 254, 255],\n",
       "        [253, 254, 255],\n",
       "        ...,\n",
       "        [250, 250, 250],\n",
       "        [247, 247, 247],\n",
       "        [249, 249, 249]]], dtype=uint8)"
      ]
     },
     "execution_count": 206,
     "metadata": {},
     "output_type": "execute_result"
    }
   ],
   "source": [
    "cv2.rectangle(catSRC,(miny,minx),(maxy,maxx),(0,0,255))"
   ]
  },
  {
   "cell_type": "code",
   "execution_count": 208,
   "metadata": {},
   "outputs": [],
   "source": [
    "cv2.imshow(\"catSRC\",catSRC)\n",
    "cv2.imshow(\"binary_invdstCat\",CatMorph)\n",
    "\n",
    "# cv2.imshow(\"dog\",dog)\n",
    "# cv2.imshow(\"binary_invdstDog\",dstDog)\n",
    "\n",
    "\n",
    "cv2.waitKey(0)\n",
    "cv2.destroyAllWindows()"
   ]
  },
  {
   "cell_type": "code",
   "execution_count": null,
   "metadata": {},
   "outputs": [],
   "source": []
  }
 ],
 "metadata": {
  "kernelspec": {
   "display_name": "Python 3",
   "language": "python",
   "name": "python3"
  },
  "language_info": {
   "codemirror_mode": {
    "name": "ipython",
    "version": 3
   },
   "file_extension": ".py",
   "mimetype": "text/x-python",
   "name": "python",
   "nbconvert_exporter": "python",
   "pygments_lexer": "ipython3",
   "version": "3.6.13"
  }
 },
 "nbformat": 4,
 "nbformat_minor": 2
}
